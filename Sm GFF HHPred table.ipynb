{
 "cells": [
  {
   "cell_type": "markdown",
   "metadata": {},
   "source": [
    "# Sm GFF HHPred table\n",
    "\n",
    "## Aim\n",
    "Generate a new annotation database using the latest GFF file (v7.1) as previously done. The goal is to extract the protein sequences, perform HHPred analysis and create a final database with GFF and HHPred annotations.\n",
    "\n",
    "## Protocol\n",
    "* Generate HHPred database"
   ]
  },
  {
   "cell_type": "code",
   "execution_count": null,
   "metadata": {},
   "outputs": [],
   "source": [
    "# Download the protein sequences\n",
    "wget \"ftp://ftp.sanger.ac.uk/pub/pathogens/Schistosoma/mansoni/v7/annotation/Sm_v7.1.pep.fa.gz\"\n",
    "gunzip Sm_v7.1.pep.fa.gz\n",
    "\n",
    "# Split the protein fasta file in individual files\n",
    "mkdir data\n",
    "mv Sm_v7.1.pep.fa data/\n",
    "cd data\n",
    "splitfasta.pl Sm_v7.1.pep.fa\n",
    "cd ..\n",
    "mv data/Sm_v7.1.pep.fa .\n",
    "\n",
    "# Create list file of sequence to treat and split for parallelization\n",
    "ls -1 data/* > list\n",
    "split -l 100 -a 3 -d list list.d/list.\n",
    "\n",
    "# Run jobs in parallele\n",
    "for i in $(ls -1 list.d/*) ; do qsub -V -cwd -o status -j y -r y -S /bin/bash hhpred-ann.sh \"$i\" ; done\n",
    "\n",
    "# Build the database\n",
    "cat results/list.* > hhpred_ann_v7.1.db\n",
    "\n",
    "# Reformat single transcript names with ending .1 for future join with GFF annotation\n",
    "sed -i -r \"s/(Smp_[0-9]{6})\\t/\\1.1\\t/g\" hhpred_ann_v7.1.db\n",
    "\n",
    "# Comparing GFF and HHPred transcript names showed a difference. This difference needs to be corrected on the HHPred side.\n",
    "diff <(cut -f 1 ~/data/sm_Gene_table/Sm_v7.1_ann/Sm_v7.1_transcript_table.tsv | sort) <(cut -f 1 hhpred_ann_v7.1.db | sort)\n",
    "sed -i \"s/Smp_210550.1/Smp_210550.2/\"  hhpred_ann_v7.1.db"
   ]
  },
  {
   "cell_type": "markdown",
   "metadata": {},
   "source": [
    "* Extract GFF annotations from the GFF file."
   ]
  },
  {
   "cell_type": "code",
   "execution_count": null,
   "metadata": {},
   "outputs": [],
   "source": [
    "# Download the GFF\n",
    "wget ftp://ftp.sanger.ac.uk/pub/pathogens/Schistosoma/mansoni/v7/annotation/Sm_v7.1.gff.gz\n",
    "gunzip Sm_v7.1.gff.gz\n",
    "\n",
    "# Extract transcript ID and product\n",
    "awk '$3 == \"mRNA\" {print $0}' Sm_v7.1.gff | cut -f 9 | awk -F ';' '{print $1\"\\t\"$3}' | sed -r \"s/^.*=(.*)\\t.*=(.*)/\\1\\t\\2/g\" > Sm_v7.1_transcript_table.tsv"
   ]
  },
  {
   "cell_type": "markdown",
   "metadata": {},
   "source": [
    "* Merge GFF annotations and newly generated HHPred annotations."
   ]
  },
  {
   "cell_type": "code",
   "execution_count": null,
   "metadata": {},
   "outputs": [],
   "source": [
    "# Join GFF annotation and HHPred annotation\n",
    "join -t $'\\t' <(sort -k 1 Sm_v7.1_transcript_table.tsv) <(sort -k 1 hhpred_ann_v7.1.db) > Sm_v7.1_transcript_table_gff-hhpred.tsv \n",
    "\n",
    "# Add header\n",
    "sed -i -r \"1s/^/#Transcript_ID\\tGFF_annotation\\tHHPred_annotation\\n/\" Sm_v7.1_transcript_table_gff-hhpred.tsv"
   ]
  }
 ],
 "metadata": {
  "kernelspec": {
   "display_name": "Bash",
   "language": "bash",
   "name": "bash"
  },
  "language_info": {
   "codemirror_mode": "shell",
   "file_extension": ".sh",
   "mimetype": "text/x-sh",
   "name": "bash"
  },
  "toc": {
   "base_numbering": 1,
   "nav_menu": {},
   "number_sections": false,
   "sideBar": true,
   "skip_h1_title": true,
   "title_cell": "Table of Contents",
   "title_sidebar": "Contents",
   "toc_cell": false,
   "toc_position": {},
   "toc_section_display": true,
   "toc_window_display": false
  },
  "varInspector": {
   "cols": {
    "lenName": 16,
    "lenType": 16,
    "lenVar": 40
   },
   "kernels_config": {
    "python": {
     "delete_cmd_postfix": "",
     "delete_cmd_prefix": "del ",
     "library": "var_list.py",
     "varRefreshCmd": "print(var_dic_list())"
    },
    "r": {
     "delete_cmd_postfix": ") ",
     "delete_cmd_prefix": "rm(",
     "library": "var_list.r",
     "varRefreshCmd": "cat(var_dic_list()) "
    }
   },
   "types_to_exclude": [
    "module",
    "function",
    "builtin_function_or_method",
    "instance",
    "_Feature"
   ],
   "window_display": false
  }
 },
 "nbformat": 4,
 "nbformat_minor": 2
}
