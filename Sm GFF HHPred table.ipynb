{
 "cells": [
  {
   "cell_type": "markdown",
   "metadata": {},
   "source": [
    "# Sm GFF HHPred table\n",
    "\n",
    "## Aim\n",
    "Generate a new annotation database using the uncurated GFF file (obtained from Alan on September 2017) as previously done on 2015. The goal is to extract the protein sequences, perform HHPred analysis and create a final database with GFF and HHPred annotations.\n",
    "\n",
    "## Protocol\n",
    "* Generate HHPred database"
   ]
  },
  {
   "cell_type": "code",
   "execution_count": null,
   "metadata": {},
   "outputs": [],
   "source": [
    "# Extract protein sequences from the genome using the gff file (which is still a work in progress)\n",
    "./gff2fasta.pl ~/data/sm_genome/Smansoni_v7_renamed.fa ~/data/sm_Gene_table/Sm_V7_r8-add_renamed_corrected.gff Sm_v7\n",
    "\n",
    "# Split the protein fasta file in individual files\n",
    "mkdir data\n",
    "mv Sm_v7.pep.fasta data/\n",
    "cd data\n",
    "splitfasta.pl Sm_v7.pep.fasta\n",
    "cd ..\n",
    "mv data/Sm_v7.pep.fasta .\n",
    "rm data/alt_test_1.seq  # Useless extra sequence\n",
    "\n",
    "# Create list file of sequence to treat and split for parallelization\n",
    "ls -1 data/* > list \n",
    "split -l 100 -a 3 -d list list.d/list.\n",
    "\n",
    "# Run jobs in parallele\n",
    "for i in $(ls -1 list.d/*)\n",
    "do\n",
    "    qsub -V -cwd -o status -j y -r y -S /bin/bash hhpred-ann.sh \"$i\"\n",
    "done\n",
    "\n",
    "# Build the database\n",
    "cat results/list.* > hhpred_ann_v7.db"
   ]
  },
  {
   "cell_type": "markdown",
   "metadata": {},
   "source": [
    "* Extract GFF annotations from the GFF file.\n",
    "\n",
    "Because the new GFF does not have annotations yet, we used the annotation from the v5.2 version."
   ]
  },
  {
   "cell_type": "code",
   "execution_count": null,
   "metadata": {},
   "outputs": [],
   "source": [
    "## Gene table done using v5.2 gff file\n",
    "## source: ftp://ftp.sanger.ac.uk/pub/pathogens/Schistosoma/mansoni/Latest_assembly_annotation_others/\n",
    "\n",
    "# Prepare working directory \n",
    "old_pwd=$(pwd)\n",
    "mkdir -p ~/data/sm_Gene_table/Sm_v5.2_ann/\n",
    "cd ~/data/sm_Gene_table/Sm_v5.2_ann/\n",
    "\n",
    "# Download the annotation\n",
    "wget ftp://ftp.sanger.ac.uk/pub/pathogens/Schistosoma/mansoni/Latest_assembly_annotation_others/Schistosoma_mansoni_v5.2.gff.gz\n",
    "gunzip Schistosoma_mansoni_v5.2.gff.gz\n",
    "\n",
    "# Remove fasta sequences\n",
    "sed -n \"1,$(grep -m 1 -n \"##FASTA\" Schistosoma_mansoni_v5.2.gff | cut -d \":\" -f 1)p\" Schistosoma_mansoni_v5.2.gff > Schistosoma_mansoni_v5.2_ann_only.gff\n",
    "\n",
    "# Extract product and locus\n",
    "grep -o \"product=.*locus_tag=.*$\" Schistosoma_mansoni_v5.2_ann_only.gff > Schistosoma_mansoni_v5.2_gene_tmp.txt \n",
    "\n",
    "# Parse locus name\n",
    "grep -o \"locus_tag=.*$\" Schistosoma_mansoni_v5.2_gene_tmp.txt | sed \"s/locus_tag=//g\" > Schistosoma_mansoni_v5.2_gene_name.txt\n",
    "\n",
    "# Parse product name\n",
    "cut -d \";\" -f 1 Schistosoma_mansoni_v5.2_gene_tmp.txt | sed \"s/product=//g\" > Schistosoma_mansoni_v5.2_gene_prod.txt \n",
    "\n",
    "# Build the table\n",
    "paste Schistosoma_mansoni_v5.2_gene_name.txt Schistosoma_mansoni_v5.2_gene_prod.txt > Schistosoma_mansoni_v5.2_gene_table.tsv\n",
    "\n",
    "# Return to the project folder\n",
    "cd \"$old_pwd\""
   ]
  },
  {
   "cell_type": "markdown",
   "metadata": {},
   "source": [
    "* Merge GFF annotations (from v5.2) and newly generated HHPred annotations."
   ]
  },
  {
   "cell_type": "code",
   "execution_count": null,
   "metadata": {},
   "outputs": [],
   "source": [
    "mkdir \"0-merged\"\n",
    "\n",
    "cd \"0-merged\"\n",
    "\n",
    "ln -s ../hhpred_ann_v7.db .\n",
    "ln -s ~/data/sm_Gene_table/Sm_v5.2_ann/Schistosoma_mansoni_v5.2_gene_table.tsv ."
   ]
  },
  {
   "cell_type": "code",
   "execution_count": null,
   "metadata": {},
   "outputs": [],
   "source": [
    "gtdb=\"Schistosoma_mansoni_v5.2_gene_table.tsv\"\n",
    "hhdb=\"hhpred_ann_v7.db\"\n",
    "\n",
    "# Generate table header\n",
    "echo -e \"#Gene_nb\\tGFF_annotation\\tHHPred_annotation\" > \"Schistosoma_mansoni_v7.0_gene_table_hhpred.tsv\"\n",
    "\n",
    "while read line\n",
    "do\n",
    "    gene=$(echo -e \"$line\" | cut -f 1)\n",
    "    \n",
    "    gtan=$(grep \"$gene\" \"$gtdb\" | cut -f 2 | head -1)\n",
    "    [[ -z \"$gtan\" ]] && gtan=\"NA\"\n",
    "    \n",
    "    hhan=$(echo \"$line\" | cut -f 2)\n",
    "    \n",
    "    echo -e \"$gene\\t$gtan\\t$hhan\" >> \"Schistosoma_mansoni_v7.0_gene_table_hhpred.tsv\"\n",
    "done < \"$hhdb\""
   ]
  }
 ],
 "metadata": {
  "kernelspec": {
   "display_name": "Bash",
   "language": "bash",
   "name": "bash"
  },
  "language_info": {
   "codemirror_mode": "shell",
   "file_extension": ".sh",
   "mimetype": "text/x-sh",
   "name": "bash"
  },
  "toc": {
   "base_numbering": 1,
   "nav_menu": {},
   "number_sections": false,
   "sideBar": true,
   "skip_h1_title": true,
   "title_cell": "Table of Contents",
   "title_sidebar": "Contents",
   "toc_cell": false,
   "toc_position": {},
   "toc_section_display": true,
   "toc_window_display": false
  },
  "varInspector": {
   "cols": {
    "lenName": 16,
    "lenType": 16,
    "lenVar": 40
   },
   "kernels_config": {
    "python": {
     "delete_cmd_postfix": "",
     "delete_cmd_prefix": "del ",
     "library": "var_list.py",
     "varRefreshCmd": "print(var_dic_list())"
    },
    "r": {
     "delete_cmd_postfix": ") ",
     "delete_cmd_prefix": "rm(",
     "library": "var_list.r",
     "varRefreshCmd": "cat(var_dic_list()) "
    }
   },
   "types_to_exclude": [
    "module",
    "function",
    "builtin_function_or_method",
    "instance",
    "_Feature"
   ],
   "window_display": false
  }
 },
 "nbformat": 4,
 "nbformat_minor": 2
}
